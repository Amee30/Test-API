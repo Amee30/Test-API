{
  "nbformat": 4,
  "nbformat_minor": 0,
  "metadata": {
    "colab": {
      "provenance": [],
      "authorship_tag": "ABX9TyNe5JjmRQT+kEvHi0XDVleI",
      "include_colab_link": true
    },
    "kernelspec": {
      "name": "python3",
      "display_name": "Python 3"
    },
    "language_info": {
      "name": "python"
    }
  },
  "cells": [
    {
      "cell_type": "markdown",
      "metadata": {
        "id": "view-in-github",
        "colab_type": "text"
      },
      "source": [
        "<a href=\"https://colab.research.google.com/github/Amee30/Test-API/blob/main/Test_API_Open_Route_Service.ipynb\" target=\"_parent\"><img src=\"https://colab.research.google.com/assets/colab-badge.svg\" alt=\"Open In Colab\"/></a>"
      ]
    },
    {
      "cell_type": "code",
      "source": [
        "import requests\n",
        "\n",
        "API_KEY = '5b3ce3597851110001cf6248cca4befa39ab4883aaafb0a15837e07f'\n",
        "\n",
        "def get_directions(start, end, profile='driving-car'):\n",
        "    url = f'https://api.openrouteservice.org/v2/directions/{profile}'\n",
        "    params = {\n",
        "        'api_key': API_KEY,\n",
        "        'start': start,\n",
        "        'end': end\n",
        "    }\n",
        "    response = requests.get(url, params=params)\n",
        "\n",
        "    if response.status_code == 200:\n",
        "        data = response.json()\n",
        "        if 'features' in data and data['features']:\n",
        "            return data\n",
        "        else:\n",
        "            print(\"Tidak ada rute yang ditemukan.\")\n",
        "            print(\"Detail error:\", data)  # Cetak detail error dari API\n",
        "            return None\n",
        "    else:\n",
        "        print(f\"Error: {response.status_code}\")\n",
        "        print(\"Detail errors:\", response.text)\n",
        "        return None\n",
        "\n",
        "def display_directions(data):\n",
        "    if data and 'features' in data and data['features']:\n",
        "        route = data['features'][0]\n",
        "        properties = route['properties']\n",
        "        summary = properties['summary']\n",
        "        distance = summary['distance'] / 1000  # Konversi ke kilometer\n",
        "        duration = summary['duration'] / 60  # Konversi ke menit\n",
        "\n",
        "        print(f\"Jarak: {distance:.2f} km\")\n",
        "        print(f\"Durasi: {duration:.2f} menit\")\n",
        "\n",
        "        print(\"\\nPetunjuk Arah:\")\n",
        "        for segment in properties['segments']:\n",
        "            for step in segment['steps']:\n",
        "                print(f\"- {step['instruction']} ({step['distance']:.2f} m)\")\n",
        "    else:\n",
        "        print(\"Tidak dapat menampilkan petunjuk arah.\")\n",
        "\n",
        "# Input koordinat start dan end\n",
        "start = input(\"Masukkan koordinat start (format: longitude,latitude): \")\n",
        "end = input(\"Masukkan koordinat end (format: longitude,latitude): \")\n",
        "\n",
        "# Coba mode transportasi default (driving-car)\n",
        "print(\"Mencoba mode transportasi: driving-car\")\n",
        "directions = get_directions(start, end, profile='driving-car')\n",
        "\n",
        "# Jika tidak berhasil, coba mode transportasi lain\n",
        "if not directions:\n",
        "    print(\"\\nMencoba mode transportasi: foot-walking\")\n",
        "    directions = get_directions(start, end, profile='foot-walking')\n",
        "\n",
        "if not directions:\n",
        "    print(\"\\nMencoba mode transportasi: cycling-regular\")\n",
        "    directions = get_directions(start, end, profile='cycling-regular')\n",
        "\n",
        "\n",
        "# Tampilkan hasil\n",
        "if directions:\n",
        "    display_directions(directions)\n",
        "else:\n",
        "    print(\"Gagal mendapatkan data.\")"
      ],
      "metadata": {
        "colab": {
          "base_uri": "https://localhost:8080/"
        },
        "id": "9j4inVIsoTaU",
        "outputId": "31a11cbe-6c36-4dbb-f7b2-37d6a8af954e"
      },
      "execution_count": 30,
      "outputs": [
        {
          "output_type": "stream",
          "name": "stdout",
          "text": [
            "Masukkan koordinat start (format: longitude,latitude): 115.185141, -8.722054\n",
            "Masukkan koordinat end (format: longitude,latitude): 115.162479, -8.798769\n",
            "Mencoba mode transportasi: driving-car\n",
            "Jarak: 10.72 km\n",
            "Durasi: 7.92 menit\n",
            "\n",
            "Petunjuk Arah:\n",
            "- Head north (20.90 m)\n",
            "- Turn left onto Jalan Bypass Ngurah Rai (7193.10 m)\n",
            "- Turn right onto Jalan Kampus Unud (9.30 m)\n",
            "- Turn right onto Jalan Uluwatu 2 (1638.30 m)\n",
            "- Enter the roundabout and take the 1st exit onto Jalan Raya Uluwatu (1655.60 m)\n",
            "- Turn left onto Jalan Kampus Unud (198.80 m)\n",
            "- Arrive at Jalan Kampus Unud, on the right (0.00 m)\n"
          ]
        }
      ]
    }
  ]
}